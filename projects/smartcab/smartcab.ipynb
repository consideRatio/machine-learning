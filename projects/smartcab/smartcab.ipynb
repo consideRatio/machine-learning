{
 "cells": [
  {
   "cell_type": "markdown",
   "metadata": {},
   "source": [
    "# Machine Learning Engineer Nanodegree\n",
    "## Reinforcement Learning\n",
    "## Project: Train a Smartcab to Drive\n",
    "\n",
    "Welcome to the fourth project of the Machine Learning Engineer Nanodegree! In this notebook, template code has already been provided for you to aid in your analysis of the *Smartcab* and your implemented learning algorithm. You will not need to modify the included code beyond what is requested. There will be questions that you must answer which relate to the project and the visualizations provided in the notebook. Each section where you will answer a question is preceded by a **'Question X'** header. Carefully read each question and provide thorough answers in the following text boxes that begin with **'Answer:'**. Your project submission will be evaluated based on your answers to each of the questions and the implementation you provide in `agent.py`.  \n",
    "\n",
    ">**Note:** Code and Markdown cells can be executed using the **Shift + Enter** keyboard shortcut. In addition, Markdown cells can be edited by typically double-clicking the cell to enter edit mode."
   ]
  },
  {
   "cell_type": "markdown",
   "metadata": {},
   "source": [
    "-----\n",
    "\n",
    "## Getting Started\n",
    "In this project, you will work towards constructing an optimized Q-Learning driving agent that will navigate a *Smartcab* through its environment towards a goal. Since the *Smartcab* is expected to drive passengers from one location to another, the driving agent will be evaluated on two very important metrics: **Safety** and **Reliability**. A driving agent that gets the *Smartcab* to its destination while running red lights or narrowly avoiding accidents would be considered **unsafe**. Similarly, a driving agent that frequently fails to reach the destination in time would be considered **unreliable**. Maximizing the driving agent's **safety** and **reliability** would ensure that *Smartcabs* have a permanent place in the transportation industry.\n",
    "\n",
    "**Safety** and **Reliability** are measured using a letter-grade system as follows:\n",
    "\n",
    "| Grade \t| Safety \t| Reliability \t|\n",
    "|:-----:\t|:------:\t|:-----------:\t|\n",
    "|   A+  \t|  Agent commits no traffic violations,<br/>and always chooses the correct action. | Agent reaches the destination in time<br />for 100% of trips. |\n",
    "|   A   \t|  Agent commits few minor traffic violations,<br/>such as failing to move on a green light. | Agent reaches the destination on time<br />for at least 90% of trips. |\n",
    "|   B   \t| Agent commits frequent minor traffic violations,<br/>such as failing to move on a green light. | Agent reaches the destination on time<br />for at least 80% of trips. |\n",
    "|   C   \t|  Agent commits at least one major traffic violation,<br/> such as driving through a red light. | Agent reaches the destination on time<br />for at least 70% of trips. |\n",
    "|   D   \t| Agent causes at least one minor accident,<br/> such as turning left on green with oncoming traffic.       \t| Agent reaches the destination on time<br />for at least 60% of trips. |\n",
    "|   F   \t|  Agent causes at least one major accident,<br />such as driving through a red light with cross-traffic.      \t| Agent fails to reach the destination on time<br />for at least 60% of trips. |\n",
    "\n",
    "To assist evaluating these important metrics, you will need to load visualization code that will be used later on in the project. Run the code cell below to import this code which is required for your analysis."
   ]
  },
  {
   "cell_type": "code",
   "execution_count": 1,
   "metadata": {
    "collapsed": true
   },
   "outputs": [],
   "source": [
    "# Import the visualization code\n",
    "import visuals as vs\n",
    "\n",
    "# Pretty display for notebooks\n",
    "%matplotlib inline"
   ]
  },
  {
   "cell_type": "markdown",
   "metadata": {},
   "source": [
    "### Understand the World\n",
    "Before starting to work on implementing your driving agent, it's necessary to first understand the world (environment) which the *Smartcab* and driving agent work in. One of the major components to building a self-learning agent is understanding the characteristics about the agent, which includes how the agent operates. To begin, simply run the `agent.py` agent code exactly how it is -- no need to make any additions whatsoever. Let the resulting simulation run for some time to see the various working components. Note that in the visual simulation (if enabled), the **white vehicle** is the *Smartcab*."
   ]
  },
  {
   "cell_type": "markdown",
   "metadata": {},
   "source": [
    "### Question 1\n",
    "In a few sentences, describe what you observe during the simulation when running the default `agent.py` agent code. Some things you could consider:\n",
    "- *Does the Smartcab move at all during the simulation?*\n",
    "- *What kind of rewards is the driving agent receiving?*\n",
    "- *How does the light changing color affect the rewards?*  \n",
    "\n",
    "**Hint:** From the `/smartcab/` top-level directory (where this notebook is located), run the command \n",
    "```bash\n",
    "'python smartcab/agent.py'\n",
    "```"
   ]
  },
  {
   "cell_type": "markdown",
   "metadata": {},
   "source": [
    "**Answer:**\n",
    "\n",
    "The simulation runs in discrete steps, each step represents a decision at an intersection for the agent to make. The agent can choose to stay put, move forward, go left or go right. There can be oncoming traffic from the three other roads leading into the four way intersection, and there can be green light for east-west or north-south, with a red light for the other. I presume the Udacity symbol is marking the agents destination.\n",
    "\n",
    "The agent is currently always choosing not to move. Sometimes it gets a slight reward for not moving, if there was a red light and it were supposed to go forward or left. But more often, it is punished relatively hard for not moving \"with no oncoming traffic\". I never saw it being rewarded for not moving while when there actually was oncoming traffic.**\\***\n",
    "\n",
    "**\\*Text update:** This formulation, together with the rating criterias, made me believe it was relevant to know if there were oncoming traffic even though there was a green light, which I later realize was a misunderstanding... If there is a green light, you are good to go no matter what, as it is presumed that the agent will wait for oncoming traffic to clear - a presumption I did not make."
   ]
  },
  {
   "cell_type": "markdown",
   "metadata": {},
   "source": [
    "### Understand the Code\n",
    "In addition to understanding the world, it is also necessary to understand the code itself that governs how the world, simulation, and so on operate. Attempting to create a driving agent would be difficult without having at least explored the *\"hidden\"* devices that make everything work. In the `/smartcab/` top-level directory, there are two folders: `/logs/` (which will be used later) and `/smartcab/`. Open the `/smartcab/` folder and explore each Python file included, then answer the following question."
   ]
  },
  {
   "cell_type": "markdown",
   "metadata": {},
   "source": [
    "### Question 2\n",
    "- *In the *`agent.py`* Python file, choose three flags that can be set and explain how they change the simulation.*\n",
    "- *In the *`environment.py`* Python file, what Environment class function is called when an agent performs an action?*\n",
    "- *In the *`simulator.py`* Python file, what is the difference between the *`'render_text()'`* function and the *`'render()'`* function?*\n",
    "- *In the *`planner.py`* Python file, will the *`'next_waypoint()`* function consider the North-South or East-West direction first?*"
   ]
  },
  {
   "cell_type": "markdown",
   "metadata": {},
   "source": [
    "**Answer:**\n",
    "\n",
    "**Agent.py - three flags explained**\n",
    "\n",
    "* *num_dummies* - this seems to indicate how many other cards are driving around simultaneously, the default value is 100, but more relevant might be to know that it is about 2 cars per intersection on average.\n",
    "* *grid_size* - this seems to indicate how big the world is, and assuming that the destination is random point in the world, how far away the target might end up.\n",
    "* *learning* - can force the agent to use Q-learning by being set to True, I presume the alternative is to simply utilize a model without improving on it by learning. If Q-learning is enabled, the Q-values will be updated.\n",
    "\n",
    "**enviroment.py - what Environment class function is called when an agent performs an action?**\n",
    "\n",
    "The following function, I conclude this based on the comment and the parameters passed to the function.\n",
    "\n",
    "```python\n",
    "def act(self, agent, action):\n",
    "    \"\"\" Consider an action and perform the action if it is legal.\n",
    "        Receive a reward for the agent based on traffic laws. \"\"\"\n",
    "```\n",
    "\n",
    "**simulator.py - *render_text()* vs *render()***\n",
    "\n",
    "It renders output for either the terminal/command prompt or GUI versions of the simulation.\n",
    "\n",
    "```python\n",
    "def render_text(self, trial, testing=False):\n",
    "    \"\"\" This is the non-GUI render display of the simulation. \n",
    "        Simulated trial data will be rendered in the terminal/command\n",
    "        prompt. \"\"\"\n",
    "```\n",
    "\n",
    "```python\n",
    "def render(self, trial, testing=False):\n",
    "    \"\"\" This is the GUI render display of the simulation. \n",
    "        Supplementary trial data can be found from render_text. \"\"\"\n",
    "```\n",
    "\n",
    "**planner.py - will the 'next_waypoint() function consider the North-South or East-West direction first?**\n",
    "\n",
    "The East-West direction, it pleases me aesthetically since it is associated with *x* rather than *y*, which is the latter in the alphebet.\n",
    "\n",
    "```python\n",
    "    # ... snippet from line 38-39 ...\n",
    "    # Next check if destination is cardinally East or West of location    \n",
    "    elif dx != 0:\n",
    "    # ...\n",
    "```"
   ]
  },
  {
   "cell_type": "markdown",
   "metadata": {},
   "source": [
    "-----\n",
    "## Implement a Basic Driving Agent\n",
    "\n",
    "The first step to creating an optimized Q-Learning driving agent is getting the agent to actually take valid actions. In this case, a valid action is one of `None`, (do nothing) `'left'` (turn left), `right'` (turn right), or `'forward'` (go forward). For your first implementation, navigate to the `'choose_action()'` agent function and make the driving agent randomly choose one of these actions. Note that you have access to several class variables that will help you write this functionality, such as `'self.learning'` and `'self.valid_actions'`. Once implemented, run the agent file and simulation briefly to confirm that your driving agent is taking a random action each time step."
   ]
  },
  {
   "cell_type": "markdown",
   "metadata": {},
   "source": [
    "### Basic Agent Simulation Results\n",
    "To obtain results from the initial simulation, you will need to adjust following flags:\n",
    "- `'enforce_deadline'` - Set this to `True` to force the driving agent to capture whether it reaches the destination in time.\n",
    "- `'update_delay'` - Set this to a small value (such as `0.01`) to reduce the time between steps in each trial.\n",
    "- `'log_metrics'` - Set this to `True` to log the simluation results as a `.csv` file in `/logs/`.\n",
    "- `'n_test'` - Set this to `'10'` to perform 10 testing trials.\n",
    "\n",
    "Optionally, you may disable to the visual simulation (which can make the trials go faster) by setting the `'display'` flag to `False`. Flags that have been set here should be returned to their default setting when debugging. It is important that you understand what each flag does and how it affects the simulation!\n",
    "\n",
    "Once you have successfully completed the initial simulation (there should have been 20 training trials and 10 testing trials), run the code cell below to visualize the results. Note that log files are overwritten when identical simulations are run, so be careful with what log file is being loaded!\n",
    "Run the agent.py file after setting the flags from projects/smartcab folder instead of projects/smartcab/smartcab.\n"
   ]
  },
  {
   "cell_type": "code",
   "execution_count": 21,
   "metadata": {},
   "outputs": [
    {
     "data": {
      "image/png": "[encoded data removed]",
      "text/plain": [
       "<matplotlib.figure.Figure at 0xa7f82e8>"
      ]
     },
     "metadata": {},
     "output_type": "display_data"
    }
   ],
   "source": [
    "# NOTE: The '_notebook' suffix is to ensure I don't overwrite the logs I've discussed.\n",
    "# NOTE: I updated the visualization code to be able to give a one line summary instead.\n",
    "#       The current output is exactly identical though.\n",
    "\n",
    "# Load the 'sim_no-learning' log file from the initial simulation results\n",
    "vs.plot_trials('sim_no-learning_notebook.csv', print_instead_of_plot=False)"
   ]
  },
  {
   "cell_type": "markdown",
   "metadata": {},
   "source": [
    "### Question 3\n",
    "Using the visualization above that was produced from your initial simulation, provide an analysis and make several observations about the driving agent. Be sure that you are making at least one observation about each panel present in the visualization. Some things you could consider:\n",
    "- *How frequently is the driving agent making bad decisions? How many of those bad decisions cause accidents?*\n",
    "- *Given that the agent is driving randomly, does the rate of reliability make sense?*\n",
    "- *What kind of rewards is the agent receiving for its actions? Do the rewards suggest it has been penalized heavily?*\n",
    "- *As the number of trials increases, does the outcome of results change significantly?*\n",
    "- *Would this Smartcab be considered safe and/or reliable for its passengers? Why or why not?*"
   ]
  },
  {
   "cell_type": "markdown",
   "metadata": {},
   "source": [
    "**Answer:** \n",
    "\n",
    "First some terminology deciphering, the top left panel is titled '10-trial rolling relative frequency of bad actions'. That first part with rolling means that each data point is an average of 10-trials, selected with a sliding window. If we take the average of the first and the last point in a given panel, we will get the average of all 20 trials.\n",
    "\n",
    "**Top left panel:**\n",
    "\n",
    "At this stage I don't care very much about the red lines, since I figure they mainly are a consequence of the rate of violations in combination with the density of other cars. There seem to be about 10% minor violations and 20% major violations, resulting in a total of 30% risk of making a violation. Oh but I must also add the accidents to this, so a total of about 36% of the actions are bad and about 5% of all actions lead to accidents.\n",
    "\n",
    "**Top right panel:**\n",
    "\n",
    "The current reward per action is at about -4. It is being penalized a lot, since the penalties were about -5 and the rewards were about +1, most of the actions must have led to punishment.\n",
    "\n",
    "**Bottom left panel:**\n",
    "\n",
    "The rate of reliability is exactly 15% in this simulation, that means that the car arrived at the destination 3 times out of 20. How likely should this be with our model? Well there is $8*6=48$ intersections on the screen, and you start at one, and I presume any of the remaining 47 interactions is chosen uniformly at random to be the destination. Also, 25% of the actions should on average be to stand still, and during the remaining 15 movements, you might crash and that probably causes the simulation to end. So perhaps you only make an average of about say 10 moves, and some of those will end come back to previously visited intersections - is it plausible that you react 7 new or more on average, which represents about 15% of the 47 that could be the destination? Yes I think this is plausible.\n",
    "\n",
    "**General observations:**\n",
    "\n",
    "Using 20 trials with 10-trail rolling averages seems very reasonable for the top panels, most of the random fluctuations seem to have smoothed out to a great extent. For the bottom panel, the confidence interval is biggest, since we simply have twenty binary data points in this graph, while the others have twenty data points that in turn are created by averages - a reasoning using the Central Limit Theorem.\n",
    "\n",
    "This smartcab would obviously not be considered safe, as a random choice is obviously not safe, and major accidents tend to happen very often considering how dangerous they are."
   ]
  },
  {
   "cell_type": "markdown",
   "metadata": {},
   "source": [
    "-----\n",
    "## Inform the Driving Agent\n",
    "The second step to creating an optimized Q-learning driving agent is defining a set of states that the agent can occupy in the environment. Depending on the input, sensory data, and additional variables available to the driving agent, a set of states can be defined for the agent so that it can eventually *learn* what action it should take when occupying a state. The condition of `'if state then action'` for each state is called a **policy**, and is ultimately what the driving agent is expected to learn. Without defining states, the driving agent would never understand which action is most optimal -- or even what environmental variables and conditions it cares about!"
   ]
  },
  {
   "cell_type": "markdown",
   "metadata": {},
   "source": [
    "### Identify States\n",
    "Inspecting the `'build_state()'` agent function shows that the driving agent is given the following data from the environment:\n",
    "- `'waypoint'`, which is the direction the *Smartcab* should drive leading to the destination, relative to the *Smartcab*'s heading.\n",
    "- `'inputs'`, which is the sensor data from the *Smartcab*. It includes \n",
    "  - `'light'`, the color of the light.\n",
    "  - `'left'`, the intended direction of travel for a vehicle to the *Smartcab*'s left. Returns `None` if no vehicle is present.\n",
    "  - `'right'`, the intended direction of travel for a vehicle to the *Smartcab*'s right. Returns `None` if no vehicle is present.\n",
    "  - `'oncoming'`, the intended direction of travel for a vehicle across the intersection from the *Smartcab*. Returns `None` if no vehicle is present.\n",
    "- `'deadline'`, which is the number of actions remaining for the *Smartcab* to reach the destination before running out of time."
   ]
  },
  {
   "cell_type": "markdown",
   "metadata": {},
   "source": [
    "### Question 4\n",
    "*Which features available to the agent are most relevant for learning both **safety** and **efficiency**? Why are these features appropriate for modeling the *Smartcab* in the environment? If you did not choose some features, why are those features* not *appropriate? Please note that whatever features you eventually choose for your agent's state, must be argued for here. That is: your code in agent.py should reflect the features chosen in this answer.\n",
    "*\n",
    "\n",
    "NOTE: You are not allowed to engineer new features for the smartcab. "
   ]
  },
  {
   "cell_type": "markdown",
   "metadata": {},
   "source": [
    "**Updated answer:**\n",
    "\n",
    "I was under misunderstanding, which was well founded I would say, about waiting for oncoming traffic to clear or not. In the criteria for various ratings, it said \"Agent causes at least one minor accident, such as turning left on green with oncoming traffic.\"\n",
    "\n",
    "**Original answer:**\n",
    "\n",
    "TL;DR: *inputs['right']* and *deadline* is deemed pointless features in order to get A+ rating.\n",
    "\n",
    "As I understand it, the *inputs['right']* is pointless information if you plan to follow the traffic rules. It has a point if you consider breaking them and run a red light left or forward in order to save time though, but this is nothing to plan for if we strive for consistent A+ ratings anyhow.\n",
    "\n",
    "If we had knowledge of the actual destination rather than just a single waypoint, a few edge cases would arise where *deadline* could be relevant - I think it could be used to maximize the likelyhood of making it in time instead of minimizing the average time, two things that I think most of the time will be the same but might not always be. But as *waypoint* is reduced to one discrete movement by the planner, my current hypothesis is that *deadline* is a pointless feature.\n",
    "\n",
    "**For my own reference:**\n",
    "\n",
    "I made a simplified policy table that did not include *waypoint* directly (W_...), mostly for my own processing of the traffic rules but also for future reference. Note that the do nothing action might be okay depending on *waypoint*.\n",
    "\n",
    "| Light | Oncoming | Left  |Do nothing|Go forward|Turn left |Turn right|\n",
    "|-------|----------|-------|----------|----------|----------|----------|\n",
    "| Green | None     | None  | STUPID   | OK       | OK       | OK       |\n",
    "| Green | None     | Other | STUPID   | OK       | OK       | OK       |\n",
    "| Green | Other    | None  | OK (~O_L)| OK       | OK (O_L) | OK       |\n",
    "| Green | Other    | Other | OK (~O_L)| OK       | OK (O_L) | OK       |\n",
    "| Red   | None     | None  | OK (~W_R)| DANGER   | DANGER   | OK       |\n",
    "| Red   | None     | Other | OK (...) | DANGER   | DANGER   | OK (~L_F)|\n",
    "| Red   | Other    | None  | OK (...) | DANGER   | DANGER   | OK (~O_L)|\n",
    "| Red   | Other    | Other | OK (...) | DANGER   | DANGER   | OK (...) |"
   ]
  },
  {
   "cell_type": "markdown",
   "metadata": {},
   "source": [
    "### Define a State Space\n",
    "When defining a set of states that the agent can occupy, it is necessary to consider the *size* of the state space. That is to say, if you expect the driving agent to learn a **policy** for each state, you would need to have an optimal action for *every* state the agent can occupy. If the number of all possible states is very large, it might be the case that the driving agent never learns what to do in some states, which can lead to uninformed decisions. For example, consider a case where the following features are used to define the state of the *Smartcab*:\n",
    "\n",
    "`('is_raining', 'is_foggy', 'is_red_light', 'turn_left', 'no_traffic', 'previous_turn_left', 'time_of_day')`.\n",
    "\n",
    "How frequently would the agent occupy a state like `(False, True, True, True, False, False, '3AM')`? Without a near-infinite amount of time for training, it's doubtful the agent would ever learn the proper action!"
   ]
  },
  {
   "cell_type": "markdown",
   "metadata": {},
   "source": [
    "### Question 5\n",
    "*If a state is defined using the features you've selected from **Question 4**, what would be the size of the state space? Given what you know about the environment and how it is simulated, do you think the driving agent could learn a policy for each possible state within a reasonable number of training trials?*  \n",
    "**Hint:** Consider the *combinations* of features to calculate the total number of states!"
   ]
  },
  {
   "cell_type": "markdown",
   "metadata": {},
   "source": [
    "**Answer:**\n",
    "\n",
    "My state space consists of $3 \\cdot 2 \\cdot 4 \\cdot 4 = 96$ states. This will work out great I think, at least if we make sure it can fail fast by being punished for misbehaviour, I write this imagining that if you trained it without much traffic, and required it to crash some times in order to learn, that might take too much time. Anyhow, it is good we do not need to multiply two more factors of $4$ and $20$, then we would have had a total of $96 \\cdot 4 \\cdot 20 = 7680$ states. Pweh!\n",
    "\n",
    "By the way, these features are now also sorted in order of the relevance I believe them to have.\n",
    "\n",
    "||Selected features | # substates\n",
    "|-\n",
    "||*waypoint*| 3\n",
    "||*light*   | 2\n",
    "||*oncoming*| 4\n",
    "||*left*    | 4\n",
    "\n",
    "||Left out features | # substates \n",
    "| -\n",
    "||*right*          | 4\n",
    "||*deadline*       | 20\n",
    "\n",
    "|<td colspan=\"2\"><strong>Total number of states</strong></td>\n",
    "| -\n",
    "|| Before selection | 7680\n",
    "|| After selection  | 96"
   ]
  },
  {
   "cell_type": "markdown",
   "metadata": {},
   "source": [
    "### Update the Driving Agent State\n",
    "For your second implementation, navigate to the `'build_state()'` agent function. With the justification you've provided in **Question 4**, you will now set the `'state'` variable to a tuple of all the features necessary for Q-Learning. Confirm your driving agent is updating its state by running the agent file and simulation briefly and note whether the state is displaying. If the visual simulation is used, confirm that the updated state corresponds with what is seen in the simulation.\n",
    "\n",
    "**Note:** Remember to reset simulation flags to their default setting when making this observation!"
   ]
  },
  {
   "cell_type": "markdown",
   "metadata": {},
   "source": [
    "-----\n",
    "## Implement a Q-Learning Driving Agent\n",
    "The third step to creating an optimized Q-Learning agent is to begin implementing the functionality of Q-Learning itself. The concept of Q-Learning is fairly straightforward: For every state the agent visits, create an entry in the Q-table for all state-action pairs available. Then, when the agent encounters a state and performs an action, update the Q-value associated with that state-action pair based on the reward received and the iterative update rule implemented. Of course, additional benefits come from Q-Learning, such that we can have the agent choose the *best* action for each state based on the Q-values of each state-action pair possible. For this project, you will be implementing a *decaying,* $\\epsilon$*-greedy* Q-learning algorithm with *no* discount factor. Follow the implementation instructions under each **TODO** in the agent functions.\n",
    "\n",
    "Note that the agent attribute `self.Q` is a dictionary: This is how the Q-table will be formed. Each state will be a key of the `self.Q` dictionary, and each value will then be another dictionary that holds the *action* and *Q-value*. Here is an example:\n",
    "\n",
    "```\n",
    "{ 'state-1': { \n",
    "    'action-1' : Qvalue-1,\n",
    "    'action-2' : Qvalue-2,\n",
    "     ...\n",
    "   },\n",
    "  'state-2': {\n",
    "    'action-1' : Qvalue-1,\n",
    "     ...\n",
    "   },\n",
    "   ...\n",
    "}\n",
    "```\n",
    "\n",
    "Furthermore, note that you are expected to use a *decaying* $\\epsilon$ *(exploration) factor*. Hence, as the number of trials increases, $\\epsilon$ should decrease towards 0. This is because the agent is expected to learn from its behavior and begin acting on its learned behavior. Additionally, The agent will be tested on what it has learned after $\\epsilon$ has passed a certain threshold (the default threshold is 0.05). For the initial Q-Learning implementation, you will be implementing a linear decaying function for $\\epsilon$."
   ]
  },
  {
   "cell_type": "markdown",
   "metadata": {},
   "source": [
    "### Q-Learning Simulation Results\n",
    "To obtain results from the initial Q-Learning implementation, you will need to adjust the following flags and setup:\n",
    "- `'enforce_deadline'` - Set this to `True` to force the driving agent to capture whether it reaches the destination in time.\n",
    "- `'update_delay'` - Set this to a small value (such as `0.01`) to reduce the time between steps in each trial.\n",
    "- `'log_metrics'` - Set this to `True` to log the simluation results as a `.csv` file and the Q-table as a `.txt` file in `/logs/`.\n",
    "- `'n_test'` - Set this to `'10'` to perform 10 testing trials.\n",
    "- `'learning'` - Set this to `'True'` to tell the driving agent to use your Q-Learning implementation.\n",
    "\n",
    "In addition, use the following decay function for $\\epsilon$:\n",
    "\n",
    "$$ \\epsilon_{t+1} = \\epsilon_{t} - 0.05, \\hspace{10px}\\textrm{for trial number } t$$\n",
    "\n",
    "If you have difficulty getting your implementation to work, try setting the `'verbose'` flag to `True` to help debug. Flags that have been set here should be returned to their default setting when debugging. It is important that you understand what each flag does and how it affects the simulation! \n",
    "\n",
    "Once you have successfully completed the initial Q-Learning simulation, run the code cell below to visualize the results. Note that log files are overwritten when identical simulations are run, so be careful with what log file is being loaded!"
   ]
  },
  {
   "cell_type": "code",
   "execution_count": 3,
   "metadata": {},
   "outputs": [
    {
     "name": "stdout",
     "output_type": "stream",
     "text": [
      "Linear-Epsilon-0.05-Decrements-learning implementation results (Default learning)\n",
      "\n",
      "Safety / Reliability: C D\n",
      "Linear-Epsilon-0.01-Decrements-learning implementation results\n",
      "\n",
      "Safety / Reliability: F A+\n",
      "Linear-Epsilon-0.001-Decrements-learning implementation results\n",
      "\n",
      "Safety / Reliability: A+ A+\n"
     ]
    }
   ],
   "source": [
    "# NOTE: The '_notebook' suffix is to ensure I don't overwrite the logs I've discussed.\n",
    "\n",
    "#print \"No-learning implementation results\\n\"\n",
    "#vs.plot_trials('sim_no-learning_notebook.csv')\n",
    "\n",
    "# Load the 'sim_default-learning' file from the default Q-Learning simulation\n",
    "print \"Linear-Epsilon-0.05-Decrements-learning implementation results (Default learning)\\n\"\n",
    "vs.plot_trials('sim_linear-epsilon-0.05-decrements-learning.csv')\n",
    "\n",
    "print \"Linear-Epsilon-0.01-Decrements-learning implementation results\\n\"\n",
    "vs.plot_trials('sim_linear-epsilon-0.01-decrements-learning.csv')\n",
    "\n",
    "print \"Linear-Epsilon-0.001-Decrements-learning implementation results\\n\"\n",
    "vs.plot_trials('sim_linear-epsilon-0.001-decrements-learning.csv')"
   ]
  },
  {
   "cell_type": "markdown",
   "metadata": {},
   "source": [
    "### Question 6\n",
    "Using the visualization above that was produced from your default Q-Learning simulation, provide an analysis and make observations about the driving agent like in **Question 3**. Note that the simulation should have also produced the Q-table in a text file which can help you make observations about the agent's learning. Some additional things you could consider:  \n",
    "- *Are there any observations that are similar between the basic driving agent and the default Q-Learning agent?*\n",
    "- *Approximately how many training trials did the driving agent require before testing? Does that number make sense given the epsilon-tolerance?*\n",
    "- *Is the decaying function you implemented for $\\epsilon$ (the exploration factor) accurately represented in the parameters panel?*\n",
    "- *As the number of training trials increased, did the number of bad actions decrease? Did the average reward increase?*\n",
    "- *How does the safety and reliability rating compare to the initial driving agent?*"
   ]
  },
  {
   "cell_type": "markdown",
   "metadata": {},
   "source": [
    "**Answer:** \n",
    "\n",
    "After the initial training results showed, I figured we should simply train the model a bit more thoroughly, as the *total bad actions* and *average reward per action* were improving steadily. $\\epsilon$ (epsilon) is the likelyhood of exploring actions at random (named *Exploration factor* in a graph to the right), it was supposed to be decreasing linearly from its initial value of 1 in steps of 0.05 until it reached the default threshold of 0.05, so it would run for 20 trials. I tuned this decrement of $\\epsilon$ since that would result in a more thorough exploration of the state space (N=96). I'm thinking that if the algorithm would explore each state and try each potential action (N=4), it might very well converge to an optimal policy - there are $96 \\cdot 4 = 384$ different rewards to learn from. Anyhow, I let it run for 1000 trails, each of which probably let the algorithm experience roughly ten outcomes, and by doing that I achieved the best rating.\n",
    "\n",
    "| Decrement steps | Total trials\\* | Saftey | Reliability\n",
    "|-\n",
    "|0.05 | 19  | C  | D\n",
    "|0.01 | 95  | F  | A+\n",
    "|0.001| 950 | A+ | A+\n",
    "\n",
    "\\* Why 95 and 950 and not 100 and 1000? It is because I did not update the threshold value, it were always at 0.05. So I figured it would run for $(1 - t) / d$ steps where $d$ is the linear decriment step size and $t$ is the threshold value for $\\epsilon$ - makes sense? You can try it out with $d=0.05$ and $t=0.05$, then think of it as needing to take 19 decriments from 1 to reach 0.05, represented by (1 - 0.05) / 0.05.\n",
    "\n",
    "**Comparision to the no-learning agent:**\n",
    "\n",
    "We'll reasonably except that both agents behaved similarly on the initial trials, where the learning agent is exploring and hence also picking random actions just as the no-learning agent is. Other than that, I would not consider anything else similar between the no-learning agent and the learning agents, unless one would consider the common learning factor of 0.5, but that would be silly, since it never is used by the no-learning agent anyhow, as it's always exploring and making random actions.\n",
    "\n",
    "**Miscellaneous observations and discussion:**\n",
    "\n",
    "The *total number of bad actions* had a decreasing trend in all of the models I trained, and similarly the *average reward per action* in all models were all showing an increasing trend with additional experience in each model.\n",
    "\n",
    "There were always only ten testing trials (*n_test*=10), I noticed that the variations in saftey and reliability rating were noticable even though the same model tended to land on similar *average reward per action* after training. Before considering the best trained model safe, I would run an really massive test. If this were a more realistic situation, it would be great to test it to the point humans would fail often, and see if it would not fail where humans would. In this simple model, we could simply ensure that it would not cause an accident in any of the 96 states, and then see that it performed ran reliably as well."
   ]
  },
  {
   "cell_type": "markdown",
   "metadata": {},
   "source": [
    "-----\n",
    "## Improve the Q-Learning Driving Agent\n",
    "The third step to creating an optimized Q-Learning agent is to perform the optimization! Now that the Q-Learning algorithm is implemented and the driving agent is successfully learning, it's necessary to tune settings and adjust learning paramaters so the driving agent learns both **safety** and **efficiency**. Typically this step will require a lot of trial and error, as some settings will invariably make the learning worse. One thing to keep in mind is the act of learning itself and the time that this takes: In theory, we could allow the agent to learn for an incredibly long amount of time; however, another goal of Q-Learning is to *transition from experimenting with unlearned behavior to acting on learned behavior*. For example, always allowing the agent to perform a random action during training (if $\\epsilon = 1$ and never decays) will certainly make it *learn*, but never let it *act*. When improving on your Q-Learning implementation, consider the implications it creates and whether it is logistically sensible to make a particular adjustment."
   ]
  },
  {
   "cell_type": "markdown",
   "metadata": {},
   "source": [
    "### Improved Q-Learning Simulation Results\n",
    "To obtain results from the initial Q-Learning implementation, you will need to adjust the following flags and setup:\n",
    "- `'enforce_deadline'` - Set this to `True` to force the driving agent to capture whether it reaches the destination in time.\n",
    "- `'update_delay'` - Set this to a small value (such as `0.01`) to reduce the time between steps in each trial.\n",
    "- `'log_metrics'` - Set this to `True` to log the simluation results as a `.csv` file and the Q-table as a `.txt` file in `/logs/`.\n",
    "- `'learning'` - Set this to `'True'` to tell the driving agent to use your Q-Learning implementation.\n",
    "- `'optimized'` - Set this to `'True'` to tell the driving agent you are performing an optimized version of the Q-Learning implementation.\n",
    "\n",
    "Additional flags that can be adjusted as part of optimizing the Q-Learning agent:\n",
    "- `'n_test'` - Set this to some positive number (previously 10) to perform that many testing trials.\n",
    "- `'alpha'` - Set this to a real number between 0 - 1 to adjust the learning rate of the Q-Learning algorithm.\n",
    "- `'epsilon'` - Set this to a real number between 0 - 1 to adjust the starting exploration factor of the Q-Learning algorithm.\n",
    "- `'tolerance'` - set this to some small value larger than 0 (default was 0.05) to set the epsilon threshold for testing.\n",
    "\n",
    "Furthermore, use a decaying function of your choice for $\\epsilon$ (the exploration factor). Note that whichever function you use, it **must decay to **`'tolerance'`** at a reasonable rate**. The Q-Learning agent will not begin testing until this occurs. Some example decaying functions (for $t$, the number of trials):\n",
    "\n",
    "$$ \\epsilon = a^t, \\textrm{for } 0 < a < 1 \\hspace{50px}\\epsilon = \\frac{1}{t^2}\\hspace{50px}\\epsilon = e^{-at}, \\textrm{for } 0 < a < 1 \\hspace{50px} \\epsilon = \\cos(at), \\textrm{for } 0 < a < 1$$\n",
    "You may also use a decaying function for $\\alpha$ (the learning rate) if you so choose, however this is typically less common. If you do so, be sure that it adheres to the inequality $0 \\leq \\alpha \\leq 1$.\n",
    "\n",
    "If you have difficulty getting your implementation to work, try setting the `'verbose'` flag to `True` to help debug. Flags that have been set here should be returned to their default setting when debugging. It is important that you understand what each flag does and how it affects the simulation! \n",
    "\n",
    "Once you have successfully completed the improved Q-Learning simulation, run the code cell below to visualize the results. Note that log files are overwritten when identical simulations are run, so be careful with what log file is being loaded!"
   ]
  },
  {
   "cell_type": "code",
   "execution_count": 26,
   "metadata": {},
   "outputs": [
    {
     "name": "stdout",
     "output_type": "stream",
     "text": [
      "Exploit 5 - n:100 t:10 a:1 ed:T Safety / Reliability: A+ A+\n",
      "Exploit 5 - n:100 t:10 a:1 ed:F Safety / Reliability: A+ A+\n",
      "\n"
     ]
    }
   ],
   "source": [
    "# Load the 'sim_improved-learning' file from the improved Q-Learning simulation\n",
    "# NOTE: I modeled various functions, they can be viewed in the following link.\n",
    "# https://www.desmos.com/calculator/uydpkrogmm\n",
    "simulation_files = [\n",
    "    #{'Explore 5':'sim_explore-5'},\n",
    "    #{'Explore 4':'sim_explore-4'},\n",
    "    #{'Explore 3':'sim_explore-3'},\n",
    "    #{'Explore 2':'sim_explore-2'},\n",
    "    #{'Explore 1':'sim_explore-1'},\n",
    "    #{'Neutral 0':'sim_neutral'},\n",
    "    #{'Exploit 1':'sim_exploit-1'},\n",
    "    #{'Exploit 2':'sim_exploit-2'},\n",
    "    #{'Exploit 3':'sim_exploit-3'},\n",
    "    #{'Exploit 4':'sim_exploit-4'},\n",
    "    {'Exploit 5':'sim_exploit-5'},\n",
    "]\n",
    "\n",
    "\n",
    "n_trainings = [100] # 100, 250, 500, 1000\n",
    "n_tests = [10] # 100\n",
    "alphas = [1] # 1\n",
    "enforce_deadlines = [True, False]\n",
    "print_instead_of_plot = True\n",
    "\n",
    "import visuals as vs\n",
    "\n",
    "for simulation in simulation_files:\n",
    "    for n in n_trainings:\n",
    "        for ed in enforce_deadlines:\n",
    "            for t in n_tests:\n",
    "                for a in alphas:\n",
    "                    print '{} - n:{} t:{} a:{} ed:{}'.format(simulation.keys()[0], n, t, a, str(ed)[0]),\n",
    "                    vs.plot_trials(simulation.values()[0]+'_train-'+str(n)+'_test-'+str(t)+'_alpha-'+str(a)+'_enforce-deadline-'+str(ed)+'.csv', print_instead_of_plot=print_instead_of_plot)\n",
    "        print"
   ]
  },
  {
   "cell_type": "markdown",
   "metadata": {},
   "source": [
    "### Question 7\n",
    "Using the visualization above that was produced from your improved Q-Learning simulation, provide a final analysis and make observations about the improved driving agent like in **Question 6**. Questions you should answer:  \n",
    "- *What decaying function was used for epsilon (the exploration factor)?*\n",
    "- *Approximately how many training trials were needed for your agent before begining testing?*\n",
    "- *What epsilon-tolerance and alpha (learning rate) did you use? Why did you use them?*\n",
    "- *How much improvement was made with this Q-Learner when compared to the default Q-Learner from the previous section?*\n",
    "- *Would you say that the Q-Learner results show that your driving agent successfully learned an appropriate policy?*\n",
    "- *Are you satisfied with the safety and reliability ratings of the *Smartcab*?*"
   ]
  },
  {
   "cell_type": "markdown",
   "metadata": {},
   "source": [
    "**Answer:**\n",
    "\n",
    "\n",
    "\n",
    "I took detour by evaluating various epsilon and alpha values, and observed that high alpha seemed good in general. I had some doubt about why you would want a low alpha anyhow. I do not rememebr the source, but I heard the case were made that there was no point in having an alpha lower than one if you had a deterministic situation, and I bet that is true, but I didn't know the rewards would be deterministic even though the states should have the same policy no matter what.\n",
    "\n",
    "Obervation: Exploitation goes well with a higher alpha, exploration goes well with a lower alpha."
   ]
  },
  {
   "cell_type": "markdown",
   "metadata": {},
   "source": [
    "### Define an Optimal Policy\n",
    "\n",
    "Sometimes, the answer to the important question *\"what am I trying to get my agent to learn?\"* only has a theoretical answer and cannot be concretely described. Here, however, you can concretely define what it is the agent is trying to learn, and that is the U.S. right-of-way traffic laws. Since these laws are known information, you can further define, for each state the *Smartcab* is occupying, the optimal action for the driving agent based on these laws. In that case, we call the set of optimal state-action pairs an **optimal policy**. Hence, unlike some theoretical answers, it is clear whether the agent is acting \"incorrectly\" not only by the reward (penalty) it receives, but also by pure observation. If the agent drives through a red light, we both see it receive a negative reward but also know that it is not the correct behavior. This can be used to your advantage for verifying whether the **policy** your driving agent has learned is the correct one, or if it is a **suboptimal policy**."
   ]
  },
  {
   "cell_type": "markdown",
   "metadata": {},
   "source": [
    "### Question 8\n",
    "\n",
    "1. Please summarize what the optimal policy is for the smartcab in the given environment. What would be the best set of instructions possible given what we know about the environment? \n",
    "   _You can explain with words or a table, but you should thoroughly discuss the optimal policy._\n",
    "\n",
    "2. Next, investigate the `'sim_improved-learning.txt'` text file to see the results of your improved Q-Learning algorithm. _For each state that has been recorded from the simulation, is the **policy** (the action with the highest value) correct for the given state? Are there any states where the policy is different than what would be expected from an optimal policy?_ \n",
    "\n",
    "3. Provide a few examples from your recorded Q-table which demonstrate that your smartcab learned the optimal policy. Explain why these entries demonstrate the optimal policy.\n",
    "\n",
    "4. Try to find at least one entry where the smartcab did _not_ learn the optimal policy.  Discuss why your cab may have not learned the correct policy for the given state.\n",
    "\n",
    "Be sure to document your `state` dictionary below, it should be easy for the reader to understand what each state represents."
   ]
  },
  {
   "cell_type": "markdown",
   "metadata": {},
   "source": [
    "**Answer:** "
   ]
  },
  {
   "cell_type": "markdown",
   "metadata": {},
   "source": [
    "-----\n",
    "### Optional: Future Rewards - Discount Factor, `'gamma'`\n",
    "Curiously, as part of the Q-Learning algorithm, you were asked to **not** use the discount factor, `'gamma'` in the implementation. Including future rewards in the algorithm is used to aid in propagating positive rewards backwards from a future state to the current state. Essentially, if the driving agent is given the option to make several actions to arrive at different states, including future rewards will bias the agent towards states that could provide even more rewards. An example of this would be the driving agent moving towards a goal: With all actions and rewards equal, moving towards the goal would theoretically yield better rewards if there is an additional reward for reaching the goal. However, even though in this project, the driving agent is trying to reach a destination in the allotted time, including future rewards will not benefit the agent. In fact, if the agent were given many trials to learn, it could negatively affect Q-values!"
   ]
  },
  {
   "cell_type": "markdown",
   "metadata": {},
   "source": [
    "### Optional Question 9\n",
    "*There are two characteristics about the project that invalidate the use of future rewards in the Q-Learning algorithm. One characteristic has to do with the *Smartcab* itself, and the other has to do with the environment. Can you figure out what they are and why future rewards won't work for this project?*"
   ]
  },
  {
   "cell_type": "markdown",
   "metadata": {},
   "source": [
    "**Answer:**\n",
    "\n",
    "Discussion...\n",
    "https://discussions.udacity.com/t/is-there-a-reason-that-the-reward-has-a-random-portion-in-it/327823/7?u=erik.i.sundelldbt6\n",
    "\n",
    "Hmm...\n",
    "\n",
    "The agent.py is not provided with details about where it is headed, only its next single step target."
   ]
  },
  {
   "cell_type": "markdown",
   "metadata": {},
   "source": [
    "> **Note**: Once you have completed all of the code implementations and successfully answered each question above, you may finalize your work by exporting the iPython Notebook as an HTML document. You can do this by using the menu above and navigating to  \n",
    "**File -> Download as -> HTML (.html)**. Include the finished document along with this notebook as your submission."
   ]
  }
 ],
 "metadata": {
  "kernelspec": {
   "display_name": "Python 2",
   "language": "python",
   "name": "python2"
  },
  "language_info": {
   "codemirror_mode": {
    "name": "ipython",
    "version": 2
   },
   "file_extension": ".py",
   "mimetype": "text/x-python",
   "name": "python",
   "nbconvert_exporter": "python",
   "pygments_lexer": "ipython2",
   "version": "2.7.13"
  }
 },
 "nbformat": 4,
 "nbformat_minor": 1
}
